{
 "cells": [
  {
   "cell_type": "code",
   "execution_count": 1,
   "metadata": {},
   "outputs": [],
   "source": [
    "import numpy as np\n",
    "import pandas as pd\n",
    "import matplotlib.pyplot as plt\n",
    "import csv\n",
    "import operator\n",
    "import requests\n",
    "import sys"
   ]
  },
  {
   "cell_type": "code",
   "execution_count": 2,
   "metadata": {},
   "outputs": [],
   "source": [
    "path = 'zomato.csv'"
   ]
  },
  {
   "cell_type": "code",
   "execution_count": 3,
   "metadata": {},
   "outputs": [],
   "source": [
    "df = pd.read_csv(path, encoding = 'ISO-8859-1')"
   ]
  },
  {
   "cell_type": "code",
   "execution_count": 4,
   "metadata": {},
   "outputs": [
    {
     "name": "stdout",
     "output_type": "stream",
     "text": [
      "9551 9551\n"
     ]
    }
   ],
   "source": [
    "test = df.copy()\n",
    "\n",
    "#checking that no Retaurant ID is repeating\n",
    "size = test.shape[0]\n",
    "temp = test['Restaurant ID'].value_counts()\n",
    "print(size, temp.shape[0])"
   ]
  },
  {
   "cell_type": "code",
   "execution_count": 5,
   "metadata": {},
   "outputs": [
    {
     "data": {
      "text/plain": [
       "Restaurant ID           0\n",
       "Restaurant Name         0\n",
       "Country Code            0\n",
       "City                    0\n",
       "Address                 0\n",
       "Locality                0\n",
       "Locality Verbose        0\n",
       "Longitude               0\n",
       "Latitude                0\n",
       "Cuisines                9\n",
       "Average Cost for two    0\n",
       "Currency                0\n",
       "Has Table booking       0\n",
       "Has Online delivery     0\n",
       "Is delivering now       0\n",
       "Switch to order menu    0\n",
       "Price range             0\n",
       "Aggregate rating        0\n",
       "Rating color            0\n",
       "Rating text             0\n",
       "Votes                   0\n",
       "dtype: int64"
      ]
     },
     "execution_count": 5,
     "metadata": {},
     "output_type": "execute_result"
    }
   ],
   "source": [
    "#checking nan is not presnt in this\n",
    "test.isna().sum()"
   ]
  },
  {
   "cell_type": "code",
   "execution_count": 6,
   "metadata": {},
   "outputs": [],
   "source": [
    "#selecting India Country \n",
    "#country Code of India is 1\n",
    "test = test[test['Country Code'] == 1]\n",
    "\n",
    "#setting the index\n",
    "test.reset_index(inplace = True, drop = True)"
   ]
  },
  {
   "cell_type": "code",
   "execution_count": 7,
   "metadata": {},
   "outputs": [
    {
     "data": {
      "text/plain": [
       "Restaurant ID           0\n",
       "Restaurant Name         0\n",
       "Country Code            0\n",
       "City                    0\n",
       "Address                 0\n",
       "Locality                0\n",
       "Locality Verbose        0\n",
       "Longitude               0\n",
       "Latitude                0\n",
       "Cuisines                0\n",
       "Average Cost for two    0\n",
       "Currency                0\n",
       "Has Table booking       0\n",
       "Has Online delivery     0\n",
       "Is delivering now       0\n",
       "Switch to order menu    0\n",
       "Price range             0\n",
       "Aggregate rating        0\n",
       "Rating color            0\n",
       "Rating text             0\n",
       "Votes                   0\n",
       "dtype: int64"
      ]
     },
     "execution_count": 7,
     "metadata": {},
     "output_type": "execute_result"
    }
   ],
   "source": [
    "#checking no nan value is present for india country\n",
    "test.isna().sum()"
   ]
  },
  {
   "cell_type": "markdown",
   "metadata": {},
   "source": [
    "## Question 2.1"
   ]
  },
  {
   "cell_type": "markdown",
   "metadata": {},
   "source": [
    "Write a short detail analysis of how the rating is affected by restaurant due following features: Plot a suitable graph to explain your inference.\n",
    "1. Number of Votes given Restaurant\n",
    "2. Restaurant serving more number of cuisines.\n",
    "3. Average Cost of Restaurant\n",
    "4. Restaurant serving some specific cuisines."
   ]
  },
  {
   "cell_type": "code",
   "execution_count": 8,
   "metadata": {},
   "outputs": [],
   "source": [
    "d_votes = {}      #dictionary maintain the number of votes and its rating\n",
    "d_cuisines = {}   #dictionary maintain the number of cuisines and its rating\n",
    "d_avg_cost = {}   #dictionary maintain cost and its rating\n",
    "d_cuisine = {}    #dictionary mainatin the avg rating if a specific cuisine serving in restaurant"
   ]
  },
  {
   "cell_type": "markdown",
   "metadata": {},
   "source": [
    "### 2.1.1 "
   ]
  },
  {
   "cell_type": "code",
   "execution_count": 9,
   "metadata": {},
   "outputs": [],
   "source": [
    "## number of votes can be in repeatition. In that case we find the average of all the rating corresponding to that number of votes.\n",
    "temp1 = test['Votes']\n",
    "temp2 = test['Aggregate rating']\n",
    "for i in range(len(temp1)):\n",
    "    if temp1[i] in d_votes:\n",
    "        li = d_votes[temp1[i]]                #list to store the sum of rating and the number of restaurants to get the avg rating\n",
    "        li[0] += temp2[i]\n",
    "        li[1] += 1\n",
    "    else:\n",
    "        li = [temp2[i], 1]\n",
    "        d_votes[temp1[i]] = li\n"
   ]
  },
  {
   "cell_type": "code",
   "execution_count": 10,
   "metadata": {},
   "outputs": [],
   "source": [
    "#Finding the average rating\n",
    "for key, val in d_votes.items():\n",
    "    avg_rating = val[0]/val[1];\n",
    "    d_votes[key] = avg_rating    "
   ]
  },
  {
   "cell_type": "code",
   "execution_count": 11,
   "metadata": {},
   "outputs": [
    {
     "name": "stdout",
     "output_type": "stream",
     "text": [
      "1 10934 4.8\n",
      "2 9667 4.7\n",
      "3 7931 4.3\n",
      "4 7574 4.3\n",
      "5 6907 4.6\n",
      "6 5966 4.9\n",
      "7 5705 4.5\n",
      "8 5434 4.9\n",
      "9 5385 4.1\n",
      "10 5288 4.2\n",
      "11 5172 4.3\n",
      "12 5145 4.0\n",
      "13 4986 4.5\n",
      "14 4914 3.7\n",
      "15 4689 4.0\n"
     ]
    }
   ],
   "source": [
    "#top 15 restaurants on the basis of votes and their rating in decreaing order of number of votes\n",
    "i = 0\n",
    "votes = []\n",
    "rating = []\n",
    "for key in sorted(d_votes.keys(), reverse = True):\n",
    "    votes.append(key)\n",
    "    rating.append(d_votes[key])\n",
    "    print(i+1,key, d_votes[key])\n",
    "    i += 1\n",
    "    if i == 15:\n",
    "        break\n"
   ]
  },
  {
   "cell_type": "code",
   "execution_count": 12,
   "metadata": {},
   "outputs": [
    {
     "data": {
      "image/png": "[encoded data removed]",
      "text/plain": [
       "<Figure size 432x288 with 1 Axes>"
      ]
     },
     "metadata": {
      "needs_background": "light"
     },
     "output_type": "display_data"
    }
   ],
   "source": [
    "#plot the plot line\n",
    "plt.plot(votes, rating, color='brown', linestyle='dashed', linewidth = 1, marker='o', markerfacecolor='pink', markersize=10)\n",
    "plt.xlabel(\"Number Of Votes\")\n",
    "plt.xticks(rotation=40)\n",
    "plt.ylabel(\"Average Rating\")\n",
    "plt.title(\"Number Of Votes vs Average Rating\")\n",
    "plt.grid()\n",
    "plt.show()"
   ]
  },
  {
   "cell_type": "markdown",
   "metadata": {},
   "source": [
    "### 2.1.2 "
   ]
  },
  {
   "cell_type": "code",
   "execution_count": 13,
   "metadata": {},
   "outputs": [],
   "source": [
    "## number of cuisines can be in repeatition. In that case we find the average of all the rating corresponding to that number of cuisines.\n",
    "temp1 = []    #maintain the count of cuisines corresponding each row\n",
    "for i in range(len(test)):\n",
    "    Cuisines_list = test['Cuisines'][i].split(',')\n",
    "    temp1.append(len(Cuisines_list))"
   ]
  },
  {
   "cell_type": "code",
   "execution_count": 14,
   "metadata": {},
   "outputs": [],
   "source": [
    "temp2 = test['Aggregate rating']\n",
    "for i in range(len(temp1)):\n",
    "    if temp1[i] in d_cuisines:\n",
    "        li = d_cuisines[temp1[i]]                #list to store the sum of rating and the number of restaurants to get the avg rating\n",
    "        li[0] += temp2[i]\n",
    "        li[1] += 1\n",
    "    else:\n",
    "        li = [temp2[i], 1]\n",
    "        d_cuisines[temp1[i]] = li\n"
   ]
  },
  {
   "cell_type": "code",
   "execution_count": 15,
   "metadata": {},
   "outputs": [],
   "source": [
    "#Finding the average rating\n",
    "for key, val in d_cuisines.items():\n",
    "    avg_rating = val[0]/val[1];\n",
    "    d_cuisines[key] = avg_rating    "
   ]
  },
  {
   "cell_type": "code",
   "execution_count": 16,
   "metadata": {},
   "outputs": [
    {
     "name": "stdout",
     "output_type": "stream",
     "text": [
      "1 8 3.266666666666667\n",
      "2 7 3.646153846153846\n",
      "3 6 3.651428571428572\n",
      "4 5 3.4812903225806444\n",
      "5 4 3.379166666666665\n",
      "6 3 2.8905388471177957\n",
      "7 2 2.563422391857511\n",
      "8 1 2.0550855666774277\n"
     ]
    }
   ],
   "source": [
    "#top restaurants on the basis of no of cuisines and their rating in decreaing order of number of votes\n",
    "i = 0\n",
    "cuisine = []\n",
    "rating = []\n",
    "for key in sorted(d_cuisines.keys(), reverse = True):\n",
    "    cuisine.append(key)\n",
    "    rating.append(d_cuisines[key])\n",
    "    print(i+1,key, d_cuisines[key])\n",
    "    i += 1"
   ]
  },
  {
   "cell_type": "code",
   "execution_count": 17,
   "metadata": {},
   "outputs": [
    {
     "data": {
      "image/png": "[encoded data removed]",
      "text/plain": [
       "<Figure size 432x288 with 1 Axes>"
      ]
     },
     "metadata": {
      "needs_background": "light"
     },
     "output_type": "display_data"
    }
   ],
   "source": [
    "#plot the plot line\n",
    "plt.plot(cuisine, rating, color='brown', linestyle='dashed', linewidth = 1, marker='o', markerfacecolor='red', markersize=10)\n",
    "plt.xlabel(\"Number Of cuisine\")\n",
    "plt.ylabel(\"Average Rating\")\n",
    "plt.title(\"Number Of cuisine vs Average Rating\")\n",
    "plt.grid()\n",
    "plt.show()"
   ]
  },
  {
   "cell_type": "markdown",
   "metadata": {},
   "source": [
    "### 2.1.3 "
   ]
  },
  {
   "cell_type": "code",
   "execution_count": 18,
   "metadata": {},
   "outputs": [],
   "source": [
    "## average cost can be in repeatition. In that case we find the average of all the rating corresponding to that number of votes.\n",
    "temp1 = test['Average Cost for two']\n",
    "temp2 = test['Aggregate rating']\n",
    "for i in range(len(temp1)):\n",
    "    if temp1[i] in d_avg_cost:\n",
    "        li = d_avg_cost[temp1[i]]                #list to store the sum of rating and the number of restaurants to get the avg rating\n",
    "        li[0] += temp2[i]\n",
    "        li[1] += 1\n",
    "    else:\n",
    "        li = [temp2[i], 1]\n",
    "        d_avg_cost[temp1[i]] = li\n"
   ]
  },
  {
   "cell_type": "code",
   "execution_count": 19,
   "metadata": {},
   "outputs": [],
   "source": [
    "#Finding the average rating\n",
    "for key, val in d_avg_cost.items():\n",
    "    avg_rating = val[0]/val[1];\n",
    "    d_avg_cost[key] = avg_rating    "
   ]
  },
  {
   "cell_type": "code",
   "execution_count": 20,
   "metadata": {},
   "outputs": [
    {
     "name": "stdout",
     "output_type": "stream",
     "text": [
      "1 8000 4.0\n",
      "2 7000 4.1\n",
      "3 6500 4.4\n",
      "4 6000 3.75\n",
      "5 5500 3.95\n",
      "6 5100 3.7\n",
      "7 5000 3.775\n",
      "8 4800 4.2\n",
      "9 4700 3.7\n",
      "10 4500 3.816666666666667\n",
      "11 4400 3.6\n",
      "12 4300 3.9\n",
      "13 4200 3.6\n",
      "14 4100 3.5\n",
      "15 4000 3.9599999999999995\n"
     ]
    }
   ],
   "source": [
    "#top restaurants on the basis of no of cuisines and their rating in decreaing order of number of votes\n",
    "i = 0\n",
    "cost = []\n",
    "rating = []\n",
    "for key in sorted(d_avg_cost.keys(), reverse = True):\n",
    "    cost.append(key)\n",
    "    rating.append(d_avg_cost[key])\n",
    "    print(i+1,key, d_avg_cost[key])\n",
    "    i += 1\n",
    "    if i == 15:\n",
    "        break"
   ]
  },
  {
   "cell_type": "code",
   "execution_count": 21,
   "metadata": {},
   "outputs": [
    {
     "data": {
      "image/png": "[encoded data removed]",
      "text/plain": [
       "<Figure size 432x288 with 1 Axes>"
      ]
     },
     "metadata": {
      "needs_background": "light"
     },
     "output_type": "display_data"
    }
   ],
   "source": [
    "#plot the plot line\n",
    "plt.plot(cost, rating, color='brown', linestyle='dashed', linewidth = 1, marker='o', markerfacecolor='green', markersize=10)\n",
    "plt.xlabel(\"average Cost\")\n",
    "plt.ylabel(\"Average Rating\")\n",
    "plt.title(\"Average Cost vs Average Rating\")\n",
    "plt.grid()\n",
    "plt.show()"
   ]
  },
  {
   "cell_type": "markdown",
   "metadata": {},
   "source": [
    "### 2.1.4 "
   ]
  },
  {
   "cell_type": "code",
   "execution_count": 22,
   "metadata": {},
   "outputs": [],
   "source": [
    "## cuisine can be in repeatition. In that case we find the average of all the rating corresponding to that number of votes.\n",
    "temp1 = test['Cuisines']\n",
    "temp2 = test['Aggregate rating']\n",
    "for i in range(len(temp1)):\n",
    "    Cuisines_list = temp1[i].split(',')\n",
    "    for ele in Cuisines_list:\n",
    "        temp = ele.strip()\n",
    "        if temp in d_cuisine:\n",
    "            li = d_cuisine[temp]                #list to store the sum of rating and the number of restaurants to get the avg rating\n",
    "            li[0] += temp2[i]\n",
    "            li[1] += 1\n",
    "        else:\n",
    "            li = [temp2[i], 1]\n",
    "            d_cuisine[temp] = li\n"
   ]
  },
  {
   "cell_type": "code",
   "execution_count": 23,
   "metadata": {},
   "outputs": [],
   "source": [
    "#Finding the average rating\n",
    "for key, val in d_cuisine.items():\n",
    "    avg_rating = val[0]/val[1];\n",
    "    d_cuisine[key] = avg_rating    "
   ]
  },
  {
   "cell_type": "code",
   "execution_count": 24,
   "metadata": {},
   "outputs": [
    {
     "name": "stdout",
     "output_type": "stream",
     "text": [
      "1 Persian: 4.6\n",
      "2 German: 4.35\n",
      "3 Modern Indian: 4.28125\n",
      "4 Charcoal Grill: 4.175000000000001\n",
      "5 Parsi: 4.1\n",
      "6 Iranian: 4.066666666666666\n",
      "7 Steak: 4.05\n",
      "8 Burmese: 4.05\n",
      "9 Spanish: 4.028571428571428\n",
      "10 Indonesian: 4.0\n",
      "11 Sri Lankan: 4.0\n",
      "12 Goan: 3.952631578947368\n",
      "13 Mediterranean: 3.9311111111111123\n",
      "14 Greek: 3.9200000000000004\n",
      "15 Belgian: 3.9\n"
     ]
    }
   ],
   "source": [
    "#top restaurants on the basis of cuisines and their rating in decreaing order of number of votes\n",
    "cuisine = []\n",
    "rating = []\n",
    "i = 1\n",
    "for key, value in sorted(d_cuisine.items(), key=lambda item: item[1], reverse = True):\n",
    "    cuisine.append(key)\n",
    "    rating.append(value)\n",
    "    print(i,\"%s: %s\" % (key, value))\n",
    "    if i == 15:\n",
    "        break;\n",
    "    i += 1"
   ]
  },
  {
   "cell_type": "code",
   "execution_count": 25,
   "metadata": {},
   "outputs": [
    {
     "data": {
      "image/png": "[encoded data removed]",
      "text/plain": [
       "<Figure size 432x288 with 1 Axes>"
      ]
     },
     "metadata": {
      "needs_background": "light"
     },
     "output_type": "display_data"
    }
   ],
   "source": [
    "#plot the plot line\n",
    "plt.plot(cuisine, rating, color='brown', linestyle='dashed', linewidth = 1, marker='o', markerfacecolor='green', markersize=10)\n",
    "plt.xlabel(\"Cuisine\")\n",
    "plt.ylabel(\"Average Rating\")\n",
    "plt.xticks(rotation = 40)\n",
    "plt.title(\"Cuisine vs Average Rating\")\n",
    "plt.grid()\n",
    "plt.show()"
   ]
  },
  {
   "cell_type": "markdown",
   "metadata": {},
   "source": [
    "## Question 2.2 "
   ]
  },
  {
   "cell_type": "markdown",
   "metadata": {},
   "source": [
    "Find the weighted restaurant rating of each locality and find out the top 10 localities with more weighted restaurant rating?\n",
    "\n",
    "Weighted Restaurant Rating=Σ (number of votes * rating) / Σ (number of votes) ."
   ]
  },
  {
   "cell_type": "code",
   "execution_count": 26,
   "metadata": {},
   "outputs": [],
   "source": [
    "#making weighted Restaurant rating\n",
    "weighted_rating = {}        #key is locality and value is list which holds the Σ (number of votes * rating) and Σ number of vote\n",
    "for i in range(len(test)):\n",
    "    locality = test['Locality'][i]\n",
    "    if locality in weighted_rating:\n",
    "        li = weighted_rating[locality]\n",
    "        li[0] += test['Votes'][i]*test['Aggregate rating'][i]\n",
    "        li[1] += test['Votes'][i]\n",
    "        weighted_rating[locality] = li\n",
    "    else:\n",
    "        li = [test['Votes'][i]*test['Aggregate rating'][i],test['Votes'][i]]\n",
    "        weighted_rating[locality] = li\n",
    "        "
   ]
  },
  {
   "cell_type": "code",
   "execution_count": 27,
   "metadata": {},
   "outputs": [],
   "source": [
    "#finding weighted rating\n",
    "for key, val in weighted_rating.items():\n",
    "    if(val[1] != 0):                               #division cant be with 0\n",
    "        weighted_rate = val[0]/val[1]\n",
    "    else:\n",
    "        weighted_rate = 0\n",
    "    weighted_rating[key] = weighted_rate"
   ]
  },
  {
   "cell_type": "code",
   "execution_count": 28,
   "metadata": {},
   "outputs": [
    {
     "name": "stdout",
     "output_type": "stream",
     "text": [
      "1 Hotel Clarks Amer, Malviya Nagar: 4.9\n",
      "2 Aminabad: 4.9\n",
      "3 Friends Colony: 4.886916367367881\n",
      "4 Powai: 4.841868613138686\n",
      "5 Kirlampudi Layout: 4.820161290322581\n",
      "6 Express Avenue Mall,  Royapettah: 4.8\n",
      "7 Deccan Gymkhana: 4.8\n",
      "8 Banjara Hills: 4.7187617260787995\n",
      "9 Sector 5, Salt Lake: 4.707022552098202\n",
      "10 Riverside Mall, Gomti Nagar: 4.7\n"
     ]
    }
   ],
   "source": [
    "#top 10 locality\n",
    "i = 1\n",
    "for key, value in sorted(weighted_rating.items(), key=lambda item: item[1], reverse = True):\n",
    "    print(i,\"%s: %s\" % (key, value))\n",
    "    if i == 10:\n",
    "        break;\n",
    "    i += 1"
   ]
  }
 ],
 "metadata": {
  "kernelspec": {
   "display_name": "Python 3",
   "language": "python",
   "name": "python3"
  },
  "language_info": {
   "codemirror_mode": {
    "name": "ipython",
    "version": 3
   },
   "file_extension": ".py",
   "mimetype": "text/x-python",
   "name": "python",
   "nbconvert_exporter": "python",
   "pygments_lexer": "ipython3",
   "version": "3.7.0"
  }
 },
 "nbformat": 4,
 "nbformat_minor": 2
}
