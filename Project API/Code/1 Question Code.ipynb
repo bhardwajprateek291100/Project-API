{
 "cells": [
  {
   "cell_type": "code",
   "execution_count": 1,
   "metadata": {},
   "outputs": [],
   "source": [
    "import numpy as np\n",
    "import pandas as pd\n",
    "import matplotlib.pyplot as plt\n",
    "import csv\n",
    "import operator\n",
    "import requests"
   ]
  },
  {
   "cell_type": "code",
   "execution_count": 2,
   "metadata": {},
   "outputs": [],
   "source": [
    "path = 'zomato.csv'"
   ]
  },
  {
   "cell_type": "code",
   "execution_count": 3,
   "metadata": {},
   "outputs": [],
   "source": [
    "df = pd.read_csv(path, encoding = 'ISO-8859-1')"
   ]
  },
  {
   "cell_type": "code",
   "execution_count": 4,
   "metadata": {},
   "outputs": [
    {
     "name": "stdout",
     "output_type": "stream",
     "text": [
      "9551 9551\n"
     ]
    }
   ],
   "source": [
    "test = df.copy()\n",
    "\n",
    "#checking that no Retaurant ID is repeating\n",
    "size = test.shape[0]\n",
    "temp = test['Restaurant ID'].value_counts()\n",
    "print(size, temp.shape[0])"
   ]
  },
  {
   "cell_type": "code",
   "execution_count": 5,
   "metadata": {},
   "outputs": [
    {
     "data": {
      "text/plain": [
       "Restaurant ID           0\n",
       "Restaurant Name         0\n",
       "Country Code            0\n",
       "City                    0\n",
       "Address                 0\n",
       "Locality                0\n",
       "Locality Verbose        0\n",
       "Longitude               0\n",
       "Latitude                0\n",
       "Cuisines                9\n",
       "Average Cost for two    0\n",
       "Currency                0\n",
       "Has Table booking       0\n",
       "Has Online delivery     0\n",
       "Is delivering now       0\n",
       "Switch to order menu    0\n",
       "Price range             0\n",
       "Aggregate rating        0\n",
       "Rating color            0\n",
       "Rating text             0\n",
       "Votes                   0\n",
       "dtype: int64"
      ]
     },
     "execution_count": 5,
     "metadata": {},
     "output_type": "execute_result"
    }
   ],
   "source": [
    "#checking nan is not presnt in this\n",
    "test.isna().sum()"
   ]
  },
  {
   "cell_type": "code",
   "execution_count": 6,
   "metadata": {},
   "outputs": [],
   "source": [
    "#selecting India Country \n",
    "#country Code of India is 1\n",
    "test = test[test['Country Code'] == 1]\n",
    "\n",
    "#setting the index\n",
    "test.reset_index(inplace = True, drop = True)"
   ]
  },
  {
   "cell_type": "code",
   "execution_count": 7,
   "metadata": {},
   "outputs": [
    {
     "data": {
      "text/plain": [
       "Restaurant ID           0\n",
       "Restaurant Name         0\n",
       "Country Code            0\n",
       "City                    0\n",
       "Address                 0\n",
       "Locality                0\n",
       "Locality Verbose        0\n",
       "Longitude               0\n",
       "Latitude                0\n",
       "Cuisines                0\n",
       "Average Cost for two    0\n",
       "Currency                0\n",
       "Has Table booking       0\n",
       "Has Online delivery     0\n",
       "Is delivering now       0\n",
       "Switch to order menu    0\n",
       "Price range             0\n",
       "Aggregate rating        0\n",
       "Rating color            0\n",
       "Rating text             0\n",
       "Votes                   0\n",
       "dtype: int64"
      ]
     },
     "execution_count": 7,
     "metadata": {},
     "output_type": "execute_result"
    }
   ],
   "source": [
    "#checking no nan value is present for india country\n",
    "test.isna().sum()"
   ]
  },
  {
   "cell_type": "code",
   "execution_count": 8,
   "metadata": {},
   "outputs": [],
   "source": [
    "#list of cities in Delhi NCR\n",
    "Delhi_NCR_list = ['New Delhi', 'Ghaziabad', 'Noida', 'Gurgaon', 'Faridabad']"
   ]
  },
  {
   "cell_type": "code",
   "execution_count": 9,
   "metadata": {},
   "outputs": [],
   "source": [
    "#filtering cities other than Delh NCR\n",
    "Rest_Of_India = test[(test['City'] != Delhi_NCR_list[0]) & (test['City'] != Delhi_NCR_list[1]) & (test['City'] != Delhi_NCR_list[2]) \n",
    "                 & (test['City'] != Delhi_NCR_list[3]) & (test['City'] != Delhi_NCR_list[4])]\n",
    "Rest_Of_India.reset_index(drop = True, inplace = True)"
   ]
  },
  {
   "cell_type": "code",
   "execution_count": 10,
   "metadata": {},
   "outputs": [],
   "source": [
    "#filtering Delhi NCR Cities\n",
    "Delhi_NCR = test[(test['City'] == Delhi_NCR_list[0]) | (test['City'] == Delhi_NCR_list[1]) | (test['City'] == Delhi_NCR_list[2]) \n",
    "                 | (test['City'] == Delhi_NCR_list[3]) | (test['City'] == Delhi_NCR_list[4])]\n",
    "Delhi_NCR.reset_index(drop = True, inplace = True)"
   ]
  },
  {
   "cell_type": "markdown",
   "metadata": {},
   "source": [
    "## Question 1.1"
   ]
  },
  {
   "cell_type": "markdown",
   "metadata": {},
   "source": [
    "Plot the bar graph of number of restaurants present in Delhi NCR vs Rest of India."
   ]
  },
  {
   "cell_type": "code",
   "execution_count": 11,
   "metadata": {},
   "outputs": [],
   "source": [
    "#finding the number of rows as it shows the number of restaurants\n",
    "No_Of_Restaurant_Delhi_NCR = Delhi_NCR.shape[0]\n",
    "No_Of_Restaurant_Rest_Of_India = Rest_Of_India.shape[0]"
   ]
  },
  {
   "cell_type": "code",
   "execution_count": 12,
   "metadata": {},
   "outputs": [],
   "source": [
    "#making lists to pass in bar graph function\n",
    "group = ['Delhi NCR', 'Rest Of India']\n",
    "NO_OF_Restaurants = [No_Of_Restaurant_Delhi_NCR, No_Of_Restaurant_Rest_Of_India]"
   ]
  },
  {
   "cell_type": "code",
   "execution_count": 13,
   "metadata": {},
   "outputs": [
    {
     "name": "stdout",
     "output_type": "stream",
     "text": [
      "No. of restaurants in Delhi NCR is 7947\n",
      "No. of restaurants in Rest of India is 705\n"
     ]
    }
   ],
   "source": [
    "print(\"No. of restaurants in Delhi NCR is\",No_Of_Restaurant_Delhi_NCR)\n",
    "print(\"No. of restaurants in Rest of India is\",No_Of_Restaurant_Rest_Of_India)"
   ]
  },
  {
   "cell_type": "code",
   "execution_count": 14,
   "metadata": {},
   "outputs": [
    {
     "data": {
      "image/png": "[encoded data removed]",
      "text/plain": [
       "<Figure size 432x288 with 1 Axes>"
      ]
     },
     "metadata": {
      "needs_background": "light"
     },
     "output_type": "display_data"
    }
   ],
   "source": [
    "#bar Graph\n",
    "plt.bar(group, NO_OF_Restaurants, color = ['Red'], width = 0.8)\n",
    "plt.xlabel(\"Delhi NCR VS Rest Of India\")\n",
    "plt.xticks(rotation = 40)\n",
    "plt.ylabel(\"Number Of Restaurants\")\n",
    "plt.title(\"Delhi NCR VS Rest Of India in comparision of Number Of Restaurants\")\n",
    "plt.show()"
   ]
  },
  {
   "cell_type": "markdown",
   "metadata": {},
   "source": [
    "## Question 1.2"
   ]
  },
  {
   "cell_type": "markdown",
   "metadata": {},
   "source": [
    "Find the cuisines which are not present in restaurant of Delhi NCR but present in rest of India.Check using Zomato API whether this cuisines are actually not served in restaurants of Delhi-NCR or just it due to incomplete dataset."
   ]
  },
  {
   "cell_type": "code",
   "execution_count": 15,
   "metadata": {},
   "outputs": [],
   "source": [
    "#using Dataset\n",
    "dict_Delhi_NCR = {}      #dictionary to hold the cuisines in Delhi NCR\n",
    "dict_Rest_Of_India = {}      #dictionary to hold the cuisines in Rest Of India"
   ]
  },
  {
   "cell_type": "code",
   "execution_count": 16,
   "metadata": {},
   "outputs": [],
   "source": [
    "#Building dict_Delhi_NCR\n",
    "for i in range(No_Of_Restaurant_Delhi_NCR):\n",
    "    Cuisines_list = Delhi_NCR['Cuisines'][i].split(',')\n",
    "    for ele in Cuisines_list:\n",
    "        dict_Delhi_NCR[ele.strip()] = dict_Delhi_NCR.get(ele.strip(),0);"
   ]
  },
  {
   "cell_type": "code",
   "execution_count": 17,
   "metadata": {},
   "outputs": [],
   "source": [
    "#Building dict_Rest_Of_India\n",
    "for i in range(No_Of_Restaurant_Rest_Of_India):\n",
    "    Cuisines_list = Rest_Of_India['Cuisines'][i].split(',')\n",
    "    for ele in Cuisines_list:\n",
    "        dict_Rest_Of_India[ele.strip()] = dict_Rest_Of_India.get(ele.strip(),0);"
   ]
  },
  {
   "cell_type": "code",
   "execution_count": 18,
   "metadata": {},
   "outputs": [],
   "source": [
    "dict_ans = {}     #store the cuisines which are not present in Delhi NCR but present in Rest Of India\n",
    "for ele in dict_Rest_Of_India:\n",
    "    if dict_Delhi_NCR.get(ele) is None:\n",
    "        dict_ans[ele] = dict_ans.get(ele, 0)"
   ]
  },
  {
   "cell_type": "code",
   "execution_count": 19,
   "metadata": {},
   "outputs": [
    {
     "name": "stdout",
     "output_type": "stream",
     "text": [
      "German\n",
      "Malwani\n",
      "BBQ\n",
      "Cajun\n"
     ]
    }
   ],
   "source": [
    "#printing ans on the basis of dataset\n",
    "for ele in dict_ans:\n",
    "    print(ele)"
   ]
  },
  {
   "cell_type": "code",
   "execution_count": 20,
   "metadata": {},
   "outputs": [
    {
     "name": "stdout",
     "output_type": "stream",
     "text": [
      "City id of Delhi NCR is 1\n"
     ]
    }
   ],
   "source": [
    "#Using API\n",
    "City_id  = 0  #maintain the city id of cities present in Delhi NCR\n",
    "basic_api='https://developers.zomato.com/api/v2.1'\n",
    "param={'q' : 'Delhi NCR'}\n",
    "user_key = \"deacdd5cb34d052c59e8491eb2699851\"\n",
    "header={\"User-agent\": \"curl/7.43.0\",'Accept': 'application/json','user-key':user_key}\n",
    "response=requests.get(basic_api+'/cities',headers=header,params=param)\n",
    "data = response.json()\n",
    "for ele in data['location_suggestions']:\n",
    "    if ele['name'] == 'Delhi NCR':\n",
    "        City_id = ele['id']\n",
    "        break;\n",
    "print(\"City id of Delhi NCR is\",City_id)"
   ]
  },
  {
   "cell_type": "code",
   "execution_count": 21,
   "metadata": {},
   "outputs": [],
   "source": [
    "#fetch the cuisines in Delhi NCR\n",
    "param={'city_id' : City_id}\n",
    "header={\"User-agent\": \"curl/7.43.0\",'Accept': 'application/json','user-key':user_key}\n",
    "response=requests.get(basic_api+'/cuisines',headers=header,params=param)\n",
    "data = response.json()\n",
    "dict_api = {}                    #dictionary store the name of cuisines presnt in Delhi NCR according to API\n",
    "for ele in data['cuisines']:\n",
    "    dict_api[ele['cuisine']['cuisine_name']] = dict_api.get(ele['cuisine']['cuisine_name'], 0)"
   ]
  },
  {
   "cell_type": "code",
   "execution_count": 22,
   "metadata": {},
   "outputs": [],
   "source": [
    "#check whether the information provided by dataset is correct or not\n",
    "dict_diff = {}               #store the cuisnes name which are not presnt in Delhi NCR according to api and dataset together\n",
    "for ele in dict_ans:\n",
    "    if dict_api.get(ele) is None:\n",
    "        dict_diff[ele] = dict_diff.get(ele, 0)"
   ]
  },
  {
   "cell_type": "code",
   "execution_count": 23,
   "metadata": {},
   "outputs": [
    {
     "name": "stdout",
     "output_type": "stream",
     "text": [
      "Malwani\n",
      "Cajun\n"
     ]
    }
   ],
   "source": [
    "#prining dictionary or the cuisines which are not served in Delhi NCR on the basis of datset and API\n",
    "for ele in dict_diff:\n",
    "    print(ele)"
   ]
  },
  {
   "cell_type": "markdown",
   "metadata": {},
   "source": [
    "## Question 1.3 "
   ]
  },
  {
   "cell_type": "markdown",
   "metadata": {},
   "source": [
    "Find the top 10 cuisines served by maximum number of restaurants in Delhi NCR and rest of India."
   ]
  },
  {
   "cell_type": "code",
   "execution_count": 24,
   "metadata": {},
   "outputs": [],
   "source": [
    "cuisines_Delhi_NCR = {}   #maintain the count of cuisines served in different Delhi NCR resturants\n",
    "for i in range(No_Of_Restaurant_Delhi_NCR):\n",
    "    Cuisines_list = Delhi_NCR['Cuisines'][i].split(',')\n",
    "    for ele in Cuisines_list:\n",
    "        cuisines_Delhi_NCR[ele.strip()] = cuisines_Delhi_NCR.get(ele.strip(),0) + 1;"
   ]
  },
  {
   "cell_type": "code",
   "execution_count": 25,
   "metadata": {},
   "outputs": [
    {
     "name": "stdout",
     "output_type": "stream",
     "text": [
      "1 North Indian: 3597\n",
      "2 Chinese: 2448\n",
      "3 Fast Food: 1866\n",
      "4 Mughlai: 933\n",
      "5 Bakery: 697\n",
      "6 South Indian: 569\n",
      "7 Continental: 547\n",
      "8 Desserts: 542\n",
      "9 Street Food: 538\n",
      "10 Italian: 535\n"
     ]
    }
   ],
   "source": [
    "#printing top 10 Of Delhi NCR Cusinis which are present in most number of restaurants\n",
    "i = 1\n",
    "for key, value in sorted(cuisines_Delhi_NCR.items(), key=lambda item: item[1], reverse = True):\n",
    "    print(i,\"%s: %s\" % (key, value))\n",
    "    if i == 10:\n",
    "        break;\n",
    "    i += 1"
   ]
  },
  {
   "cell_type": "code",
   "execution_count": 26,
   "metadata": {},
   "outputs": [],
   "source": [
    "cuisines_Rest_Of_India = {}   #maintain the count of cuisines served in different Rest_Of_India resturants\n",
    "for i in range(No_Of_Restaurant_Rest_Of_India):\n",
    "    Cuisines_list = Rest_Of_India['Cuisines'][i].split(',')\n",
    "    for ele in Cuisines_list:\n",
    "        cuisines_Rest_Of_India[ele.strip()] = cuisines_Rest_Of_India.get(ele.strip(),0) + 1;"
   ]
  },
  {
   "cell_type": "code",
   "execution_count": 27,
   "metadata": {},
   "outputs": [
    {
     "name": "stdout",
     "output_type": "stream",
     "text": [
      "1 North Indian: 349\n",
      "2 Chinese: 242\n",
      "3 Continental: 177\n",
      "4 Italian: 147\n",
      "5 Cafe: 136\n",
      "6 Fast Food: 97\n",
      "7 South Indian: 62\n",
      "8 Mughlai: 59\n",
      "9 Desserts: 55\n",
      "10 Mexican: 50\n"
     ]
    }
   ],
   "source": [
    "#printing top 10 Of ROI Cusinis which are present in most number of restaurants\n",
    "i = 1\n",
    "x = []\n",
    "y = []\n",
    "for key, value in sorted(cuisines_Rest_Of_India.items(), key=lambda item: item[1], reverse = True):\n",
    "    print(i,\"%s: %s\" % (key, value))\n",
    "    y.append(value)\n",
    "    x.append(key)\n",
    "    if i == 10:\n",
    "        break;\n",
    "    i += 1"
   ]
  },
  {
   "cell_type": "code",
   "execution_count": 28,
   "metadata": {},
   "outputs": [],
   "source": [
    "cuisines_India = {}   #maintain the count of cuisines served in different India resturants\n",
    "for i in range(No_Of_Restaurant_Rest_Of_India + No_Of_Restaurant_Delhi_NCR):\n",
    "    Cuisines_list = test['Cuisines'][i].split(',')\n",
    "    for ele in Cuisines_list:\n",
    "        cuisines_India[ele.strip()] = cuisines_India.get(ele.strip(),0) + 1;"
   ]
  },
  {
   "cell_type": "code",
   "execution_count": 29,
   "metadata": {},
   "outputs": [
    {
     "name": "stdout",
     "output_type": "stream",
     "text": [
      "1 North Indian: 3946\n",
      "2 Chinese: 2690\n",
      "3 Fast Food: 1963\n",
      "4 Mughlai: 992\n",
      "5 Bakery: 726\n",
      "6 Continental: 724\n",
      "7 Italian: 682\n",
      "8 South Indian: 631\n",
      "9 Cafe: 627\n",
      "10 Desserts: 597\n"
     ]
    }
   ],
   "source": [
    "#printing top 10 Of India Cusinis which are present in most number of restaurants\n",
    "i = 1\n",
    "x = []\n",
    "y = []\n",
    "for key, value in sorted(cuisines_India.items(), key=lambda item: item[1], reverse = True):\n",
    "    print(i,\"%s: %s\" % (key, value))\n",
    "    y.append(value)\n",
    "    x.append(key)\n",
    "    if i == 10:\n",
    "        break;\n",
    "    i += 1"
   ]
  },
  {
   "cell_type": "markdown",
   "metadata": {},
   "source": [
    "## Question 1.4 "
   ]
  },
  {
   "cell_type": "markdown",
   "metadata": {},
   "source": [
    "Write a short detailed analysis of how cuisine served is different from Delhi NCR to Rest of India. Plot the suitable graph to explain your inference."
   ]
  },
  {
   "cell_type": "code",
   "execution_count": 30,
   "metadata": {},
   "outputs": [
    {
     "name": "stdout",
     "output_type": "stream",
     "text": [
      "1 North Indian: 349\n",
      "2 Chinese: 242\n",
      "3 Continental: 177\n",
      "4 Italian: 147\n",
      "5 Cafe: 136\n",
      "6 Fast Food: 97\n",
      "7 South Indian: 62\n",
      "8 Mughlai: 59\n",
      "9 Desserts: 55\n",
      "10 Mexican: 50\n"
     ]
    },
    {
     "data": {
      "image/png": "[encoded data removed]",
      "text/plain": [
       "<Figure size 432x288 with 1 Axes>"
      ]
     },
     "metadata": {},
     "output_type": "display_data"
    }
   ],
   "source": [
    "#printing top 10 Of ROI Cusinis which are present in most number of restaurants\n",
    "i = 1\n",
    "x = []\n",
    "y = []\n",
    "for key, value in sorted(cuisines_Rest_Of_India.items(), key=lambda item: item[1], reverse = True):\n",
    "    print(i,\"%s: %s\" % (key, value))\n",
    "    y.append(value)\n",
    "    x.append(key)\n",
    "    if i == 10:\n",
    "        break;\n",
    "    i += 1\n",
    "    \n",
    "#plot\n",
    "plt.pie(y, labels = x,startangle=90, shadow = True, autopct = \"%.1f%%\")\n",
    "plt.grid()\n",
    "plt.xticks(rotation=40)\n",
    "plt.title(\"Distribution Of differnt Cuisines in ROI among Top 10\")\n",
    "plt.show()"
   ]
  },
  {
   "cell_type": "code",
   "execution_count": 31,
   "metadata": {},
   "outputs": [
    {
     "name": "stdout",
     "output_type": "stream",
     "text": [
      "1 North Indian: 3597\n",
      "2 Chinese: 2448\n",
      "3 Fast Food: 1866\n",
      "4 Mughlai: 933\n",
      "5 Bakery: 697\n",
      "6 South Indian: 569\n",
      "7 Continental: 547\n",
      "8 Desserts: 542\n",
      "9 Street Food: 538\n",
      "10 Italian: 535\n"
     ]
    },
    {
     "data": {
      "image/png": "[encoded data removed]",
      "text/plain": [
       "<Figure size 432x288 with 1 Axes>"
      ]
     },
     "metadata": {},
     "output_type": "display_data"
    }
   ],
   "source": [
    "#printing top 10 Of Delhi NCR Cusinis which are present in most number of restaurants\n",
    "i = 1\n",
    "x = []\n",
    "y = []\n",
    "for key, value in sorted(cuisines_Delhi_NCR.items(), key=lambda item: item[1], reverse = True):\n",
    "    print(i,\"%s: %s\" % (key, value))\n",
    "    x.append(key)\n",
    "    y.append(value)\n",
    "    if i == 10:\n",
    "        break;\n",
    "    i += 1\n",
    "    \n",
    "#plot\n",
    "plt.pie(y, labels = x,startangle=90, shadow = True, autopct = \"%.1f%%\")\n",
    "plt.grid()\n",
    "plt.xticks(rotation=40)\n",
    "plt.title(\"Distribution Of differnt Cuisines in Delhi NCR among Top 10\")\n",
    "plt.show()"
   ]
  }
 ],
 "metadata": {
  "kernelspec": {
   "display_name": "Python 3",
   "language": "python",
   "name": "python3"
  },
  "language_info": {
   "codemirror_mode": {
    "name": "ipython",
    "version": 3
   },
   "file_extension": ".py",
   "mimetype": "text/x-python",
   "name": "python",
   "nbconvert_exporter": "python",
   "pygments_lexer": "ipython3",
   "version": "3.7.0"
  }
 },
 "nbformat": 4,
 "nbformat_minor": 2
}
